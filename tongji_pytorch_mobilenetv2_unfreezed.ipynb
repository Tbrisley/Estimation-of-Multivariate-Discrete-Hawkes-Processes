{
  "cells": [
    {
      "cell_type": "markdown",
      "metadata": {
        "id": "view-in-github",
        "colab_type": "text"
      },
      "source": [
        "<a href=\"https://colab.research.google.com/github/Tbrisley/Estimation-of-Multivariate-Discrete-Hawkes-Processes/blob/main/tongji_pytorch_mobilenetv2_unfreezed.ipynb\" target=\"_parent\"><img src=\"https://colab.research.google.com/assets/colab-badge.svg\" alt=\"Open In Colab\"/></a>"
      ]
    },
    {
      "cell_type": "code",
      "execution_count": 1,
      "id": "4573aa73",
      "metadata": {
        "execution": {
          "iopub.execute_input": "2022-04-04T15:36:36.458833Z",
          "iopub.status.busy": "2022-04-04T15:36:36.458058Z",
          "iopub.status.idle": "2022-04-04T15:36:41.088291Z",
          "shell.execute_reply": "2022-04-04T15:36:41.087653Z",
          "shell.execute_reply.started": "2022-04-03T09:59:58.941761Z"
        },
        "id": "4573aa73",
        "papermill": {
          "duration": 4.724681,
          "end_time": "2022-04-04T15:36:41.088434",
          "exception": false,
          "start_time": "2022-04-04T15:36:36.363753",
          "status": "completed"
        },
        "tags": []
      },
      "outputs": [],
      "source": [
        "from __future__ import print_function, division\n",
        "\n",
        "import torch\n",
        "import torch.nn as nn\n",
        "import torch.optim as optim\n",
        "from torch.optim import lr_scheduler\n",
        "import torch.backends.cudnn as cudnn\n",
        "import numpy as np\n",
        "import torchvision\n",
        "from torchvision import datasets, models, transforms\n",
        "import matplotlib.pyplot as plt\n",
        "import time\n",
        "import os\n",
        "import copy\n",
        "cudnn.benchmark = True"
      ]
    },
    {
      "cell_type": "code",
      "source": [
        "import zipfile\n",
        "import os\n",
        "\n",
        "zip_path = '/content/ROI.zip'\n",
        "extract_dir = '/content/ROI'\n",
        "\n",
        "with zipfile.ZipFile(zip_path, 'r') as zip_ref:\n",
        "    zip_ref.extractall(extract_dir)\n",
        "\n",
        "print(\"Extracted ROI.zip to\", extract_dir)\n"
      ],
      "metadata": {
        "colab": {
          "base_uri": "https://localhost:8080/"
        },
        "id": "ymFkvcIEzm-f",
        "outputId": "7b535b68-2fa3-4526-8925-2333d37a6ea0"
      },
      "id": "ymFkvcIEzm-f",
      "execution_count": 3,
      "outputs": [
        {
          "output_type": "stream",
          "name": "stdout",
          "text": [
            "Extracted ROI.zip to /content/ROI\n"
          ]
        }
      ]
    },
    {
      "cell_type": "code",
      "source": [
        "import os\n",
        "import shutil\n",
        "import random\n",
        "from pathlib import Path\n",
        "from collections import defaultdict\n",
        "\n",
        "# Settings\n",
        "source_dir = '/content/ROI'\n",
        "sessions = ['session1', 'session2']\n",
        "train_dir = '/content/palmprint_training_set_tongji'\n",
        "val_dir = '/content/palmprint_validation_set_tongji'\n",
        "test_dir = '/content/palmprint_test_set_tongji'\n",
        "\n",
        "# Clean output\n",
        "for d in [train_dir, val_dir, test_dir]:\n",
        "    shutil.rmtree(d, ignore_errors=True)\n",
        "    os.makedirs(d, exist_ok=True)\n",
        "\n",
        "# Group images by palm ID (0001, 0002, ..., 0600)\n",
        "palm_groups = defaultdict(list)\n",
        "\n",
        "for session in sessions:\n",
        "    session_path = os.path.join(source_dir, session)\n",
        "    for fname in sorted(os.listdir(session_path)):\n",
        "        if not fname.endswith('.bmp'):\n",
        "            continue\n",
        "        index = int(Path(fname).stem)\n",
        "        palm_id = (index - 1) // 10 + 1\n",
        "        palm_name = f\"{palm_id:04d}\"  # '0001' to '0600'\n",
        "        full_path = os.path.join(session_path, fname)\n",
        "        palm_groups[palm_name].append(full_path)\n",
        "\n",
        "# Split each palm's 20 images into train/val/test\n",
        "def copy_images(image_list, target_dir, class_name):\n",
        "    class_path = os.path.join(target_dir, class_name)\n",
        "    os.makedirs(class_path, exist_ok=True)\n",
        "    for path in image_list:\n",
        "        shutil.copy(path, class_path)\n",
        "\n",
        "for palm_name, image_paths in palm_groups.items():\n",
        "    random.shuffle(image_paths)\n",
        "    n = len(image_paths)\n",
        "    n_train = int(n * 0.7)\n",
        "    n_val = int(n * 0.2)\n",
        "    n_test = n - n_train - n_val\n",
        "    copy_images(image_paths[:n_train], train_dir, palm_name)\n",
        "    copy_images(image_paths[n_train:n_train+n_val], val_dir, palm_name)\n",
        "    copy_images(image_paths[n_train+n_val:], test_dir, palm_name)\n",
        "\n",
        "print(\"✅ Done! Each split contains all users, with different palmprint images.\")\n"
      ],
      "metadata": {
        "colab": {
          "base_uri": "https://localhost:8080/"
        },
        "id": "pbmsVNK3zC1_",
        "outputId": "9054616a-45c2-4200-bf26-356e1f8faf32"
      },
      "id": "pbmsVNK3zC1_",
      "execution_count": 17,
      "outputs": [
        {
          "output_type": "stream",
          "name": "stdout",
          "text": [
            "✅ Done! Each split contains all users, with different palmprint images.\n"
          ]
        }
      ]
    },
    {
      "cell_type": "code",
      "execution_count": 18,
      "id": "b5bd5533",
      "metadata": {
        "execution": {
          "iopub.execute_input": "2022-04-04T15:36:41.113006Z",
          "iopub.status.busy": "2022-04-04T15:36:41.112438Z",
          "iopub.status.idle": "2022-04-04T15:36:49.910955Z",
          "shell.execute_reply": "2022-04-04T15:36:49.910463Z",
          "shell.execute_reply.started": "2022-04-03T10:00:03.586465Z"
        },
        "id": "b5bd5533",
        "papermill": {
          "duration": 8.814093,
          "end_time": "2022-04-04T15:36:49.911093",
          "exception": false,
          "start_time": "2022-04-04T15:36:41.097000",
          "status": "completed"
        },
        "tags": []
      },
      "outputs": [],
      "source": [
        "from torchvision import datasets, transforms\n",
        "import torch\n",
        "import os\n",
        "\n",
        "# Data augmentation and normalization for training\n",
        "# Just normalization for validation\n",
        "data_transforms = {\n",
        "    'train': transforms.Compose([\n",
        "        transforms.Grayscale(),\n",
        "        transforms.Resize(224),\n",
        "        transforms.RandomHorizontalFlip(),\n",
        "        transforms.ToTensor(),\n",
        "        transforms.Lambda(lambda x: x.repeat(3, 1, 1)),\n",
        "        transforms.Normalize([0.485, 0.456, 0.406],\n",
        "                             [0.229, 0.224, 0.225])\n",
        "    ]),\n",
        "    'val': transforms.Compose([\n",
        "        transforms.Grayscale(),\n",
        "        transforms.Resize(224),\n",
        "        transforms.ToTensor(),\n",
        "        transforms.Lambda(lambda x: x.repeat(3, 1, 1)),\n",
        "        transforms.Normalize([0.485, 0.456, 0.406],\n",
        "                             [0.229, 0.224, 0.225])\n",
        "    ]),\n",
        "}\n",
        "\n",
        "# Correct data_dir\n",
        "data_dir = '/content'\n",
        "\n",
        "# Correct folder names used during splitting\n",
        "image_datasets = {\n",
        "    'train': datasets.ImageFolder(os.path.join(data_dir, 'palmprint_training_set_tongji'),\n",
        "                                  data_transforms['train']),\n",
        "    'val': datasets.ImageFolder(os.path.join(data_dir, 'palmprint_validation_set_tongji'),\n",
        "                                data_transforms['val'])\n",
        "}\n",
        "\n",
        "# DataLoaders\n",
        "dataloaders = {\n",
        "    x: torch.utils.data.DataLoader(image_datasets[x], batch_size=4,\n",
        "                                   shuffle=True, num_workers=2)\n",
        "    for x in ['train', 'val']\n",
        "}\n",
        "\n",
        "# Dataset sizes and class names\n",
        "dataset_sizes = {x: len(image_datasets[x]) for x in ['train', 'val']}\n",
        "class_names = image_datasets['train'].classes\n",
        "\n",
        "# Set device\n",
        "device = torch.device(\"cuda:0\" if torch.cuda.is_available() else \"cpu\")\n"
      ]
    },
    {
      "cell_type": "code",
      "execution_count": 19,
      "id": "d039c11e",
      "metadata": {
        "execution": {
          "iopub.execute_input": "2022-04-04T15:36:49.933187Z",
          "iopub.status.busy": "2022-04-04T15:36:49.932557Z",
          "iopub.status.idle": "2022-04-04T15:36:50.399785Z",
          "shell.execute_reply": "2022-04-04T15:36:50.400266Z",
          "shell.execute_reply.started": "2022-04-03T10:00:28.244463Z"
        },
        "id": "d039c11e",
        "outputId": "586b2e73-6d5b-401f-f04e-50d3e1e2ab4c",
        "papermill": {
          "duration": 0.48203,
          "end_time": "2022-04-04T15:36:50.400433",
          "exception": false,
          "start_time": "2022-04-04T15:36:49.918403",
          "status": "completed"
        },
        "tags": [],
        "colab": {
          "base_uri": "https://localhost:8080/",
          "height": 207
        }
      },
      "outputs": [
        {
          "output_type": "display_data",
          "data": {
            "text/plain": [
              "<Figure size 640x480 with 1 Axes>"
            ],
            "image/png": "[encoded data removed]"
          },
          "metadata": {}
        }
      ],
      "source": [
        "def imshow(inp, title=None):\n",
        "    \"\"\"Imshow for Tensor.\"\"\"\n",
        "    inp = inp.numpy().transpose((1, 2, 0))\n",
        "    mean = np.array([0.485, 0.456, 0.406])\n",
        "    std = np.array([0.229, 0.224, 0.225])\n",
        "    inp = std * inp + mean\n",
        "    inp = np.clip(inp, 0, 1)\n",
        "    plt.imshow(inp)\n",
        "    if title is not None:\n",
        "        plt.title(title)\n",
        "    plt.pause(0.001)  # pause a bit so that plots are updated\n",
        "\n",
        "\n",
        "# Get a batch of training data\n",
        "inputs, classes = next(iter(dataloaders['train']))\n",
        "# Make a grid from batch\n",
        "out = torchvision.utils.make_grid(inputs)\n",
        "\n",
        "imshow(out, title=[class_names[x] for x in classes])"
      ]
    },
    {
      "cell_type": "code",
      "execution_count": 20,
      "id": "89876caf",
      "metadata": {
        "execution": {
          "iopub.execute_input": "2022-04-04T15:36:50.429772Z",
          "iopub.status.busy": "2022-04-04T15:36:50.418970Z",
          "iopub.status.idle": "2022-04-04T15:36:50.432361Z",
          "shell.execute_reply": "2022-04-04T15:36:50.431932Z",
          "shell.execute_reply.started": "2022-04-03T10:00:29.584069Z"
        },
        "id": "89876caf",
        "papermill": {
          "duration": 0.023792,
          "end_time": "2022-04-04T15:36:50.432465",
          "exception": false,
          "start_time": "2022-04-04T15:36:50.408673",
          "status": "completed"
        },
        "tags": []
      },
      "outputs": [],
      "source": [
        "def train_model(model, criterion, optimizer, scheduler, num_epochs=500):\n",
        "    train_lss, val_lss, train_acc,val_acc = [], [], [], []\n",
        "    since = time.time() #starting time\n",
        "\n",
        "    best_model_wts = copy.deepcopy(model.state_dict())\n",
        "    best_acc = 0.0\n",
        "\n",
        "    for epoch in range(num_epochs):\n",
        "        print(f'Epoch {epoch}/{num_epochs - 1}')\n",
        "        print('-' * 10)\n",
        "\n",
        "        # Each epoch has a training and validation phase\n",
        "        for phase in ['train', 'val']:\n",
        "            if phase == 'train':\n",
        "                model.train()  # Set model to training mode\n",
        "            else:\n",
        "                model.eval()   # Set model to evaluate mode\n",
        "\n",
        "            running_loss = 0.0\n",
        "            running_corrects = 0\n",
        "\n",
        "            # Iterate over data.\n",
        "            for inputs, labels in dataloaders[phase]:\n",
        "                inputs = inputs.to(device)\n",
        "                labels = labels.to(device)\n",
        "\n",
        "                # zero the parameter gradients\n",
        "                optimizer.zero_grad()\n",
        "\n",
        "                # forward\n",
        "                # track history if only in train\n",
        "                with torch.set_grad_enabled(phase == 'train'):\n",
        "                    outputs = model(inputs)\n",
        "                    _, preds = torch.max(outputs, 1)\n",
        "                    loss = criterion(outputs, labels)\n",
        "\n",
        "                    # backward + optimize only if in training phase\n",
        "                    if phase == 'train':\n",
        "                        loss.backward()\n",
        "                        optimizer.step()\n",
        "\n",
        "                # statistics\n",
        "                running_loss += loss.item() * inputs.size(0)\n",
        "                running_corrects += torch.sum(preds == labels.data)\n",
        "            if phase == 'train':\n",
        "                scheduler.step()\n",
        "\n",
        "            epoch_loss = running_loss / dataset_sizes[phase]\n",
        "            epoch_acc = running_corrects.double() / dataset_sizes[phase]\n",
        "\n",
        "            #add to lists\n",
        "            if phase == 'train':\n",
        "              train_lss.append(float(epoch_loss))\n",
        "              train_acc.append(float(epoch_acc))\n",
        "            else:\n",
        "              val_lss.append(float(epoch_loss))\n",
        "              val_acc.append(float(epoch_acc))\n",
        "\n",
        "            print(f'{phase} Loss: {epoch_loss:.4f} Acc: {epoch_acc:.4f}')\n",
        "\n",
        "            # deep copy the model\n",
        "            if phase == 'val' and epoch_acc > best_acc:\n",
        "                best_acc = epoch_acc\n",
        "                best_model_wts = copy.deepcopy(model.state_dict())\n",
        "\n",
        "        print()\n",
        "\n",
        "    time_elapsed = time.time() - since\n",
        "    print(f'Training complete in {time_elapsed // 60:.0f}m {time_elapsed % 60:.0f}s')\n",
        "    print(f'Best val Acc: {best_acc:4f}')\n",
        "\n",
        "    # load best model weights\n",
        "    model.load_state_dict(best_model_wts)\n",
        "    return model, train_lss, val_lss, train_acc,val_acc"
      ]
    },
    {
      "cell_type": "code",
      "execution_count": 21,
      "id": "6d7f47a7",
      "metadata": {
        "execution": {
          "iopub.execute_input": "2022-04-04T15:36:50.456822Z",
          "iopub.status.busy": "2022-04-04T15:36:50.455996Z",
          "iopub.status.idle": "2022-04-04T15:36:57.262323Z",
          "shell.execute_reply": "2022-04-04T15:36:57.261830Z",
          "shell.execute_reply.started": "2022-04-03T10:06:38.878967Z"
        },
        "id": "6d7f47a7",
        "papermill": {
          "duration": 6.822183,
          "end_time": "2022-04-04T15:36:57.262451",
          "exception": false,
          "start_time": "2022-04-04T15:36:50.440268",
          "status": "completed"
        },
        "tags": [],
        "colab": {
          "base_uri": "https://localhost:8080/"
        },
        "outputId": "78209306-1b88-4969-88e8-3b9c169480a0"
      },
      "outputs": [
        {
          "output_type": "stream",
          "name": "stderr",
          "text": [
            "/usr/local/lib/python3.11/dist-packages/torchvision/models/_utils.py:208: UserWarning: The parameter 'pretrained' is deprecated since 0.13 and may be removed in the future, please use 'weights' instead.\n",
            "  warnings.warn(\n",
            "/usr/local/lib/python3.11/dist-packages/torchvision/models/_utils.py:223: UserWarning: Arguments other than a weight enum or `None` for 'weights' are deprecated since 0.13 and may be removed in the future. The current behavior is equivalent to passing `weights=MobileNet_V2_Weights.IMAGENET1K_V1`. You can also use `weights=MobileNet_V2_Weights.DEFAULT` to get the most up-to-date weights.\n",
            "  warnings.warn(msg)\n",
            "Downloading: \"https://download.pytorch.org/models/mobilenet_v2-b0353104.pth\" to /root/.cache/torch/hub/checkpoints/mobilenet_v2-b0353104.pth\n",
            "100%|██████████| 13.6M/13.6M [00:00<00:00, 94.9MB/s]\n"
          ]
        }
      ],
      "source": [
        "model_ft = models.mobilenet_v2(pretrained=True)\n",
        "model_ft.classifier[1] = torch.nn.Linear(in_features=model_ft.classifier[1].in_features, out_features=len(class_names))\n",
        "\n",
        "model_ft = model_ft.to(device)\n",
        "\n",
        "criterion = nn.CrossEntropyLoss()\n",
        "\n",
        "# Observe that all parameters are being optimized\n",
        "optimizer_ft = optim.Adam(model_ft.parameters(), lr=0.00005)\n",
        "\n",
        "# Decay LR by a factor of 0.1 every 100 epochs\n",
        "exp_lr_scheduler = lr_scheduler.StepLR(optimizer_ft, step_size=100, gamma=0.1)"
      ]
    },
    {
      "cell_type": "code",
      "execution_count": 22,
      "id": "cdbb65b5",
      "metadata": {
        "execution": {
          "iopub.execute_input": "2022-04-04T15:36:57.284390Z",
          "iopub.status.busy": "2022-04-04T15:36:57.283622Z",
          "iopub.status.idle": "2022-04-05T00:42:27.145352Z",
          "shell.execute_reply": "2022-04-05T00:42:27.145898Z",
          "shell.execute_reply.started": "2022-04-03T10:07:16.133908Z"
        },
        "id": "cdbb65b5",
        "outputId": "b6ba7286-8002-40a5-ff92-2a9254afbaaa",
        "papermill": {
          "duration": 32729.874762,
          "end_time": "2022-04-05T00:42:27.146068",
          "exception": false,
          "start_time": "2022-04-04T15:36:57.271306",
          "status": "completed"
        },
        "tags": [],
        "colab": {
          "base_uri": "https://localhost:8080/",
          "height": 353
        }
      },
      "outputs": [
        {
          "output_type": "stream",
          "name": "stdout",
          "text": [
            "Epoch 0/349\n",
            "----------\n"
          ]
        },
        {
          "output_type": "error",
          "ename": "KeyboardInterrupt",
          "evalue": "",
          "traceback": [
            "\u001b[0;31m---------------------------------------------------------------------------\u001b[0m",
            "\u001b[0;31mKeyboardInterrupt\u001b[0m                         Traceback (most recent call last)",
            "\u001b[0;32m<ipython-input-22-f15074c1eceb>\u001b[0m in \u001b[0;36m<cell line: 0>\u001b[0;34m()\u001b[0m\n\u001b[0;32m----> 1\u001b[0;31m model_ft, train_lss, val_lss, train_acc,val_acc = train_model(model_ft, criterion, optimizer_ft, exp_lr_scheduler,\n\u001b[0m\u001b[1;32m      2\u001b[0m                        num_epochs=350)\n",
            "\u001b[0;32m<ipython-input-20-fa303a75e96b>\u001b[0m in \u001b[0;36mtrain_model\u001b[0;34m(model, criterion, optimizer, scheduler, num_epochs)\u001b[0m\n\u001b[1;32m     37\u001b[0m                     \u001b[0;31m# backward + optimize only if in training phase\u001b[0m\u001b[0;34m\u001b[0m\u001b[0;34m\u001b[0m\u001b[0m\n\u001b[1;32m     38\u001b[0m                     \u001b[0;32mif\u001b[0m \u001b[0mphase\u001b[0m \u001b[0;34m==\u001b[0m \u001b[0;34m'train'\u001b[0m\u001b[0;34m:\u001b[0m\u001b[0;34m\u001b[0m\u001b[0;34m\u001b[0m\u001b[0m\n\u001b[0;32m---> 39\u001b[0;31m                         \u001b[0mloss\u001b[0m\u001b[0;34m.\u001b[0m\u001b[0mbackward\u001b[0m\u001b[0;34m(\u001b[0m\u001b[0;34m)\u001b[0m\u001b[0;34m\u001b[0m\u001b[0;34m\u001b[0m\u001b[0m\n\u001b[0m\u001b[1;32m     40\u001b[0m                         \u001b[0moptimizer\u001b[0m\u001b[0;34m.\u001b[0m\u001b[0mstep\u001b[0m\u001b[0;34m(\u001b[0m\u001b[0;34m)\u001b[0m\u001b[0;34m\u001b[0m\u001b[0;34m\u001b[0m\u001b[0m\n\u001b[1;32m     41\u001b[0m \u001b[0;34m\u001b[0m\u001b[0m\n",
            "\u001b[0;32m/usr/local/lib/python3.11/dist-packages/torch/_tensor.py\u001b[0m in \u001b[0;36mbackward\u001b[0;34m(self, gradient, retain_graph, create_graph, inputs)\u001b[0m\n\u001b[1;32m    624\u001b[0m                 \u001b[0minputs\u001b[0m\u001b[0;34m=\u001b[0m\u001b[0minputs\u001b[0m\u001b[0;34m,\u001b[0m\u001b[0;34m\u001b[0m\u001b[0;34m\u001b[0m\u001b[0m\n\u001b[1;32m    625\u001b[0m             )\n\u001b[0;32m--> 626\u001b[0;31m         torch.autograd.backward(\n\u001b[0m\u001b[1;32m    627\u001b[0m             \u001b[0mself\u001b[0m\u001b[0;34m,\u001b[0m \u001b[0mgradient\u001b[0m\u001b[0;34m,\u001b[0m \u001b[0mretain_graph\u001b[0m\u001b[0;34m,\u001b[0m \u001b[0mcreate_graph\u001b[0m\u001b[0;34m,\u001b[0m \u001b[0minputs\u001b[0m\u001b[0;34m=\u001b[0m\u001b[0minputs\u001b[0m\u001b[0;34m\u001b[0m\u001b[0;34m\u001b[0m\u001b[0m\n\u001b[1;32m    628\u001b[0m         )\n",
            "\u001b[0;32m/usr/local/lib/python3.11/dist-packages/torch/autograd/__init__.py\u001b[0m in \u001b[0;36mbackward\u001b[0;34m(tensors, grad_tensors, retain_graph, create_graph, grad_variables, inputs)\u001b[0m\n\u001b[1;32m    345\u001b[0m     \u001b[0;31m# some Python versions print out the first line of a multi-line function\u001b[0m\u001b[0;34m\u001b[0m\u001b[0;34m\u001b[0m\u001b[0m\n\u001b[1;32m    346\u001b[0m     \u001b[0;31m# calls in the traceback and some print out the last line\u001b[0m\u001b[0;34m\u001b[0m\u001b[0;34m\u001b[0m\u001b[0m\n\u001b[0;32m--> 347\u001b[0;31m     _engine_run_backward(\n\u001b[0m\u001b[1;32m    348\u001b[0m         \u001b[0mtensors\u001b[0m\u001b[0;34m,\u001b[0m\u001b[0;34m\u001b[0m\u001b[0;34m\u001b[0m\u001b[0m\n\u001b[1;32m    349\u001b[0m         \u001b[0mgrad_tensors_\u001b[0m\u001b[0;34m,\u001b[0m\u001b[0;34m\u001b[0m\u001b[0;34m\u001b[0m\u001b[0m\n",
            "\u001b[0;32m/usr/local/lib/python3.11/dist-packages/torch/autograd/graph.py\u001b[0m in \u001b[0;36m_engine_run_backward\u001b[0;34m(t_outputs, *args, **kwargs)\u001b[0m\n\u001b[1;32m    821\u001b[0m         \u001b[0munregister_hooks\u001b[0m \u001b[0;34m=\u001b[0m \u001b[0m_register_logging_hooks_on_whole_graph\u001b[0m\u001b[0;34m(\u001b[0m\u001b[0mt_outputs\u001b[0m\u001b[0;34m)\u001b[0m\u001b[0;34m\u001b[0m\u001b[0;34m\u001b[0m\u001b[0m\n\u001b[1;32m    822\u001b[0m     \u001b[0;32mtry\u001b[0m\u001b[0;34m:\u001b[0m\u001b[0;34m\u001b[0m\u001b[0;34m\u001b[0m\u001b[0m\n\u001b[0;32m--> 823\u001b[0;31m         return Variable._execution_engine.run_backward(  # Calls into the C++ engine to run the backward pass\n\u001b[0m\u001b[1;32m    824\u001b[0m             \u001b[0mt_outputs\u001b[0m\u001b[0;34m,\u001b[0m \u001b[0;34m*\u001b[0m\u001b[0margs\u001b[0m\u001b[0;34m,\u001b[0m \u001b[0;34m**\u001b[0m\u001b[0mkwargs\u001b[0m\u001b[0;34m\u001b[0m\u001b[0;34m\u001b[0m\u001b[0m\n\u001b[1;32m    825\u001b[0m         )  # Calls into the C++ engine to run the backward pass\n",
            "\u001b[0;31mKeyboardInterrupt\u001b[0m: "
          ]
        }
      ],
      "source": [
        "model_ft, train_lss, val_lss, train_acc,val_acc = train_model(model_ft, criterion, optimizer_ft, exp_lr_scheduler,\n",
        "                       num_epochs=350)"
      ]
    },
    {
      "cell_type": "code",
      "execution_count": null,
      "id": "7e8669c5",
      "metadata": {
        "execution": {
          "iopub.execute_input": "2022-04-05T00:42:27.524361Z",
          "iopub.status.busy": "2022-04-05T00:42:27.523557Z",
          "iopub.status.idle": "2022-04-05T00:42:27.574206Z",
          "shell.execute_reply": "2022-04-05T00:42:27.573634Z"
        },
        "id": "7e8669c5",
        "papermill": {
          "duration": 0.246215,
          "end_time": "2022-04-05T00:42:27.574331",
          "exception": false,
          "start_time": "2022-04-05T00:42:27.328116",
          "status": "completed"
        },
        "tags": []
      },
      "outputs": [],
      "source": [
        "torch.save(model_ft.state_dict(), 'MobileNetV2_tongji_unfreezed_04042022.pt')"
      ]
    },
    {
      "cell_type": "code",
      "execution_count": null,
      "id": "e014706d",
      "metadata": {
        "execution": {
          "iopub.execute_input": "2022-04-05T00:42:27.990375Z",
          "iopub.status.busy": "2022-04-05T00:42:27.988758Z",
          "iopub.status.idle": "2022-04-05T00:42:28.225199Z",
          "shell.execute_reply": "2022-04-05T00:42:28.225583Z"
        },
        "papermill": {
          "duration": 0.460262,
          "end_time": "2022-04-05T00:42:28.225722",
          "exception": false,
          "start_time": "2022-04-05T00:42:27.765460",
          "status": "completed"
        },
        "tags": [],
        "id": "e014706d"
      },
      "outputs": [],
      "source": [
        "epochs = range(0,350)\n",
        "plt.plot(epochs, train_acc, 'g', label='Training acc.')\n",
        "plt.plot(epochs, val_acc, 'b', label='validation acc.')\n",
        "plt.title('Training and Validation accuracy')\n",
        "plt.xlabel('Epochs')\n",
        "plt.ylabel('Accuracy')\n",
        "plt.legend()\n",
        "plt.savefig('acc.png')\n",
        "plt.show()"
      ]
    },
    {
      "cell_type": "code",
      "execution_count": null,
      "id": "3f22f2e4",
      "metadata": {
        "execution": {
          "iopub.execute_input": "2022-04-05T00:42:28.740514Z",
          "iopub.status.busy": "2022-04-05T00:42:28.719732Z",
          "iopub.status.idle": "2022-04-05T00:42:28.971873Z",
          "shell.execute_reply": "2022-04-05T00:42:28.971434Z"
        },
        "papermill": {
          "duration": 0.562186,
          "end_time": "2022-04-05T00:42:28.971999",
          "exception": false,
          "start_time": "2022-04-05T00:42:28.409813",
          "status": "completed"
        },
        "tags": [],
        "id": "3f22f2e4"
      },
      "outputs": [],
      "source": [
        "epochs = range(0,350)\n",
        "plt.plot(epochs, train_lss, 'g', label='Training loss')\n",
        "plt.plot(epochs, val_lss, 'b', label='validation loss')\n",
        "plt.title('Training and Validation loss')\n",
        "plt.xlabel('Epochs')\n",
        "plt.ylabel('Loss')\n",
        "plt.legend()\n",
        "plt.savefig('loss.png')\n",
        "plt.show()"
      ]
    },
    {
      "cell_type": "code",
      "source": [],
      "metadata": {
        "id": "oWi_CmGb2qEs"
      },
      "id": "oWi_CmGb2qEs",
      "execution_count": null,
      "outputs": []
    }
  ],
  "metadata": {
    "kernelspec": {
      "display_name": "Python 3",
      "language": "python",
      "name": "python3"
    },
    "language_info": {
      "codemirror_mode": {
        "name": "ipython",
        "version": 3
      },
      "file_extension": ".py",
      "mimetype": "text/x-python",
      "name": "python",
      "nbconvert_exporter": "python",
      "pygments_lexer": "ipython3",
      "version": "3.7.10"
    },
    "papermill": {
      "default_parameters": {},
      "duration": 32761.064447,
      "end_time": "2022-04-05T00:42:30.410564",
      "environment_variables": {},
      "exception": null,
      "input_path": "__notebook__.ipynb",
      "output_path": "__notebook__.ipynb",
      "parameters": {},
      "start_time": "2022-04-04T15:36:29.346117",
      "version": "2.3.3"
    },
    "colab": {
      "provenance": [],
      "include_colab_link": true
    }
  },
  "nbformat": 4,
  "nbformat_minor": 5
}